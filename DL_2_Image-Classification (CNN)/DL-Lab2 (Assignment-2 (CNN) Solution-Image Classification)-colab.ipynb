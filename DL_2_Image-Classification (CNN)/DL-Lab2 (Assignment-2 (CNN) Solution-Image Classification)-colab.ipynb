{
 "cells": [
  {
   "cell_type": "markdown",
   "metadata": {
    "id": "WjO3e907vL77"
   },
   "source": [
    "___\n",
    "\n",
    "<p style=\"text-align: center;\"><img src=\"https://docs.google.com/uc?id=1lY0Uj5R04yMY3-ZppPWxqCr5pvBLYPnV\" class=\"img-fluid\" alt=\"CLRSWY\"></p>\n",
    "\n",
    "___"
   ]
  },
  {
   "cell_type": "markdown",
   "metadata": {
    "id": "gT67WdgzvL8A"
   },
   "source": [
    "<h1 style=\"text-align: center;\">Deep Learning<br><br>Lab - 2 (CNN) <br><br>Assignment-2 Solution<br><br>Image Classification with CNN<br><h1>"
   ]
  },
  {
   "cell_type": "markdown",
   "metadata": {
    "id": "JCmYNvE9vL8B"
   },
   "source": [
    "\n",
    "# Task and Dataset Info\n",
    "\n",
    "Welcome to second assignment of Deep learning lesson. Follow the instructions and complete the assignment.\n",
    "\n",
    "**Build an image classifier with Convolutional Neural Networks for the Fashion MNIST dataset. This data set includes 10 labels of different clothing types with 28 by 28 *grayscale* images. There is a training set of 60,000 images and 10,000 test images.**\n",
    "\n",
    "    Label\tDescription\n",
    "    0\t    T-shirt/top\n",
    "    1\t    Trouser\n",
    "    2\t    Pullover\n",
    "    3\t    Dress\n",
    "    4\t    Coat\n",
    "    5\t    Sandal\n",
    "    6\t    Shirt\n",
    "    7\t    Sneaker\n",
    "    8\t    Bag\n",
    "    9\t    Ankle boot"
   ]
  },
  {
   "cell_type": "markdown",
   "metadata": {
    "id": "STdwJkXzvL8C"
   },
   "source": [
    "# Import Libraries"
   ]
  },
  {
   "cell_type": "code",
   "execution_count": 1,
   "metadata": {},
   "outputs": [
    {
     "data": {
      "text/html": [
       "\n",
       "                <script type=\"application/javascript\" id=\"jupyter_black\">\n",
       "                (function() {\n",
       "                    if (window.IPython === undefined) {\n",
       "                        return\n",
       "                    }\n",
       "                    var msg = \"WARNING: it looks like you might have loaded \" +\n",
       "                        \"jupyter_black in a non-lab notebook with \" +\n",
       "                        \"`is_lab=True`. Please double check, and if \" +\n",
       "                        \"loading with `%load_ext` please review the README!\"\n",
       "                    console.log(msg)\n",
       "                    alert(msg)\n",
       "                })()\n",
       "                </script>\n",
       "                "
      ],
      "text/plain": [
       "<IPython.core.display.HTML object>"
      ]
     },
     "metadata": {},
     "output_type": "display_data"
    }
   ],
   "source": [
    "try:\n",
    "    import jupyter_black\n",
    "\n",
    "    jupyter_black.load()\n",
    "except ImportError:\n",
    "    print(\"You can safely ignore this message.\")"
   ]
  },
  {
   "cell_type": "code",
   "execution_count": 2,
   "metadata": {},
   "outputs": [],
   "source": [
    "import os\n",
    "\n",
    "# Set TF log level to ignore INFOs\n",
    "os.environ[\"TF_CPP_MIN_LOG_LEVEL\"] = \"1\""
   ]
  },
  {
   "cell_type": "code",
   "execution_count": 3,
   "metadata": {
    "executionInfo": {
     "elapsed": 961,
     "status": "ok",
     "timestamp": 1674839644966,
     "user": {
      "displayName": "Michael Gd",
      "userId": "11180041065344820766"
     },
     "user_tz": -180
    },
    "id": "fyaWweoevL8C"
   },
   "outputs": [],
   "source": [
    "import numpy as np\n",
    "import pandas as pd\n",
    "import matplotlib.pyplot as plt\n",
    "import seaborn as sns\n",
    "\n",
    "# import warnings\n",
    "# warnings.filterwarnings(\"ignore\")\n",
    "# warnings.warn(\"this will not show\")\n",
    "\n",
    "plt.rcParams[\"figure.figsize\"] = (10, 6)\n",
    "\n",
    "sns.set_style(\"whitegrid\")\n",
    "pd.set_option(\"display.float_format\", lambda x: \"%.3f\" % x)\n",
    "\n",
    "# Set it None to display all rows in the dataframe\n",
    "# pd.set_option('display.max_rows', None)\n",
    "\n",
    "# Set it to None to display all columns in the dataframe\n",
    "pd.set_option(\"display.max_columns\", None)"
   ]
  },
  {
   "cell_type": "code",
   "execution_count": 4,
   "metadata": {
    "colab": {
     "base_uri": "https://localhost:8080/"
    },
    "executionInfo": {
     "elapsed": 5573,
     "status": "ok",
     "timestamp": 1674839660353,
     "user": {
      "displayName": "Michael Gd",
      "userId": "11180041065344820766"
     },
     "user_tz": -180
    },
    "id": "YtZ5LeOavL8E",
    "outputId": "dc0fc661-1f97-4ae1-c7f3-8dbfeff2c1e6"
   },
   "outputs": [
    {
     "name": "stderr",
     "output_type": "stream",
     "text": [
      "2023-05-08 19:32:09.325906: W tensorflow/compiler/tf2tensorrt/utils/py_utils.cc:38] TF-TRT Warning: Could not find TensorRT\n"
     ]
    },
    {
     "name": "stdout",
     "output_type": "stream",
     "text": [
      "GPU support is enabled for this session.\n"
     ]
    }
   ],
   "source": [
    "import tensorflow as tf\n",
    "\n",
    "if tf.config.list_physical_devices(\"GPU\"):\n",
    "    print(\"GPU support is enabled for this session.\")\n",
    "else:\n",
    "    print(\"CPU will be used for this session.\")"
   ]
  },
  {
   "cell_type": "markdown",
   "metadata": {
    "id": "wtgu1D03vL8F"
   },
   "source": [
    "# Recognizing and Understanding Data\n",
    "\n",
    "**TASK 1: Run the code below to download the dataset using Keras.**"
   ]
  },
  {
   "cell_type": "code",
   "execution_count": 5,
   "metadata": {
    "colab": {
     "base_uri": "https://localhost:8080/"
    },
    "executionInfo": {
     "elapsed": 2370,
     "status": "ok",
     "timestamp": 1674839710994,
     "user": {
      "displayName": "Michael Gd",
      "userId": "11180041065344820766"
     },
     "user_tz": -180
    },
    "id": "JgcJYmlovL8G",
    "outputId": "5c4cb388-f1e8-4eb4-f01d-02213add92aa"
   },
   "outputs": [],
   "source": [
    "from tensorflow.keras.datasets import fashion_mnist\n",
    "\n",
    "(X_train, y_train), (X_test, y_test) = fashion_mnist.load_data()"
   ]
  },
  {
   "cell_type": "code",
   "execution_count": 6,
   "metadata": {
    "colab": {
     "base_uri": "https://localhost:8080/"
    },
    "executionInfo": {
     "elapsed": 669,
     "status": "ok",
     "timestamp": 1674839746706,
     "user": {
      "displayName": "Michael Gd",
      "userId": "11180041065344820766"
     },
     "user_tz": -180
    },
    "id": "5YHVWqslvL8H",
    "outputId": "48ce5e57-0cbb-4528-e43d-602750d424ab"
   },
   "outputs": [
    {
     "name": "stdout",
     "output_type": "stream",
     "text": [
      "There are  60000 images in the training dataset\n",
      "There are  10000 images in the test dataset\n"
     ]
    }
   ],
   "source": [
    "print(\"There are \", len(X_train), \"images in the training dataset\")\n",
    "print(\"There are \", len(X_test), \"images in the test dataset\")"
   ]
  },
  {
   "cell_type": "markdown",
   "metadata": {
    "id": "ucRFdslovL8I"
   },
   "source": [
    "**TASK 2: Use matplotlib to view an image from the data set. It can be any image from the data set.**"
   ]
  },
  {
   "cell_type": "code",
   "execution_count": 7,
   "metadata": {
    "executionInfo": {
     "elapsed": 355,
     "status": "ok",
     "timestamp": 1674839776476,
     "user": {
      "displayName": "Michael Gd",
      "userId": "11180041065344820766"
     },
     "user_tz": -180
    },
    "id": "0pEKqY6OvL8J"
   },
   "outputs": [],
   "source": [
    "classes = [\n",
    "    \"T-shirt/top\",\n",
    "    \"Trouser\",\n",
    "    \"Pullover\",\n",
    "    \"Dress\",\n",
    "    \"Coat\",\n",
    "    \"Sandal\",\n",
    "    \"Shirt\",\n",
    "    \"Sneaker\",\n",
    "    \"Bag\",\n",
    "    \"Ankle boot\",\n",
    "]"
   ]
  },
  {
   "cell_type": "code",
   "execution_count": 8,
   "metadata": {
    "colab": {
     "base_uri": "https://localhost:8080/"
    },
    "executionInfo": {
     "elapsed": 401,
     "status": "ok",
     "timestamp": 1674839833683,
     "user": {
      "displayName": "Michael Gd",
      "userId": "11180041065344820766"
     },
     "user_tz": -180
    },
    "id": "0_ReQ-eUvL8K",
    "outputId": "fb08047e-618b-45e5-e7cf-6a6fe82cd093"
   },
   "outputs": [
    {
     "data": {
      "text/plain": [
       "(28, 28)"
      ]
     },
     "execution_count": 8,
     "metadata": {},
     "output_type": "execute_result"
    }
   ],
   "source": [
    "X_train[0].shape"
   ]
  },
  {
   "cell_type": "code",
   "execution_count": 9,
   "metadata": {
    "colab": {
     "base_uri": "https://localhost:8080/"
    },
    "executionInfo": {
     "elapsed": 331,
     "status": "ok",
     "timestamp": 1674839851085,
     "user": {
      "displayName": "Michael Gd",
      "userId": "11180041065344820766"
     },
     "user_tz": -180
    },
    "id": "Gq1JoLmsvL8K",
    "outputId": "a58fdcc3-1a1e-485e-ffba-aa70700e1f8c"
   },
   "outputs": [
    {
     "data": {
      "text/plain": [
       "array([[  0,   0,   0,   0,   0,   0,   0,   0,   0,   0,   0,   0,   0,\n",
       "          0,   0,   0,   0,   0,   0,   0,   0,   0,   0,   0,   0,   0,\n",
       "          0,   0],\n",
       "       [  0,   0,   0,   0,   0,   0,   0,   0,   0,   0,   0,   0,   0,\n",
       "          0,   0,   0,   0,   0,   0,   0,   0,   0,   0,   0,   0,   0,\n",
       "          0,   0],\n",
       "       [  0,   0,   0,   0,   0,   0,   0,   0,   0,   0,   0,   0,   0,\n",
       "          0,   0,   0,   0,   0,   0,   0,   0,   0,   0,   0,   0,   0,\n",
       "          0,   0],\n",
       "       [  0,   0,   0,   0,   0,   0,   0,   0,   0,   0,   0,   0,   1,\n",
       "          0,   0,  13,  73,   0,   0,   1,   4,   0,   0,   0,   0,   1,\n",
       "          1,   0],\n",
       "       [  0,   0,   0,   0,   0,   0,   0,   0,   0,   0,   0,   0,   3,\n",
       "          0,  36, 136, 127,  62,  54,   0,   0,   0,   1,   3,   4,   0,\n",
       "          0,   3],\n",
       "       [  0,   0,   0,   0,   0,   0,   0,   0,   0,   0,   0,   0,   6,\n",
       "          0, 102, 204, 176, 134, 144, 123,  23,   0,   0,   0,   0,  12,\n",
       "         10,   0],\n",
       "       [  0,   0,   0,   0,   0,   0,   0,   0,   0,   0,   0,   0,   0,\n",
       "          0, 155, 236, 207, 178, 107, 156, 161, 109,  64,  23,  77, 130,\n",
       "         72,  15],\n",
       "       [  0,   0,   0,   0,   0,   0,   0,   0,   0,   0,   0,   1,   0,\n",
       "         69, 207, 223, 218, 216, 216, 163, 127, 121, 122, 146, 141,  88,\n",
       "        172,  66],\n",
       "       [  0,   0,   0,   0,   0,   0,   0,   0,   0,   1,   1,   1,   0,\n",
       "        200, 232, 232, 233, 229, 223, 223, 215, 213, 164, 127, 123, 196,\n",
       "        229,   0],\n",
       "       [  0,   0,   0,   0,   0,   0,   0,   0,   0,   0,   0,   0,   0,\n",
       "        183, 225, 216, 223, 228, 235, 227, 224, 222, 224, 221, 223, 245,\n",
       "        173,   0],\n",
       "       [  0,   0,   0,   0,   0,   0,   0,   0,   0,   0,   0,   0,   0,\n",
       "        193, 228, 218, 213, 198, 180, 212, 210, 211, 213, 223, 220, 243,\n",
       "        202,   0],\n",
       "       [  0,   0,   0,   0,   0,   0,   0,   0,   0,   1,   3,   0,  12,\n",
       "        219, 220, 212, 218, 192, 169, 227, 208, 218, 224, 212, 226, 197,\n",
       "        209,  52],\n",
       "       [  0,   0,   0,   0,   0,   0,   0,   0,   0,   0,   6,   0,  99,\n",
       "        244, 222, 220, 218, 203, 198, 221, 215, 213, 222, 220, 245, 119,\n",
       "        167,  56],\n",
       "       [  0,   0,   0,   0,   0,   0,   0,   0,   0,   4,   0,   0,  55,\n",
       "        236, 228, 230, 228, 240, 232, 213, 218, 223, 234, 217, 217, 209,\n",
       "         92,   0],\n",
       "       [  0,   0,   1,   4,   6,   7,   2,   0,   0,   0,   0,   0, 237,\n",
       "        226, 217, 223, 222, 219, 222, 221, 216, 223, 229, 215, 218, 255,\n",
       "         77,   0],\n",
       "       [  0,   3,   0,   0,   0,   0,   0,   0,   0,  62, 145, 204, 228,\n",
       "        207, 213, 221, 218, 208, 211, 218, 224, 223, 219, 215, 224, 244,\n",
       "        159,   0],\n",
       "       [  0,   0,   0,   0,  18,  44,  82, 107, 189, 228, 220, 222, 217,\n",
       "        226, 200, 205, 211, 230, 224, 234, 176, 188, 250, 248, 233, 238,\n",
       "        215,   0],\n",
       "       [  0,  57, 187, 208, 224, 221, 224, 208, 204, 214, 208, 209, 200,\n",
       "        159, 245, 193, 206, 223, 255, 255, 221, 234, 221, 211, 220, 232,\n",
       "        246,   0],\n",
       "       [  3, 202, 228, 224, 221, 211, 211, 214, 205, 205, 205, 220, 240,\n",
       "         80, 150, 255, 229, 221, 188, 154, 191, 210, 204, 209, 222, 228,\n",
       "        225,   0],\n",
       "       [ 98, 233, 198, 210, 222, 229, 229, 234, 249, 220, 194, 215, 217,\n",
       "        241,  65,  73, 106, 117, 168, 219, 221, 215, 217, 223, 223, 224,\n",
       "        229,  29],\n",
       "       [ 75, 204, 212, 204, 193, 205, 211, 225, 216, 185, 197, 206, 198,\n",
       "        213, 240, 195, 227, 245, 239, 223, 218, 212, 209, 222, 220, 221,\n",
       "        230,  67],\n",
       "       [ 48, 203, 183, 194, 213, 197, 185, 190, 194, 192, 202, 214, 219,\n",
       "        221, 220, 236, 225, 216, 199, 206, 186, 181, 177, 172, 181, 205,\n",
       "        206, 115],\n",
       "       [  0, 122, 219, 193, 179, 171, 183, 196, 204, 210, 213, 207, 211,\n",
       "        210, 200, 196, 194, 191, 195, 191, 198, 192, 176, 156, 167, 177,\n",
       "        210,  92],\n",
       "       [  0,   0,  74, 189, 212, 191, 175, 172, 175, 181, 185, 188, 189,\n",
       "        188, 193, 198, 204, 209, 210, 210, 211, 188, 188, 194, 192, 216,\n",
       "        170,   0],\n",
       "       [  2,   0,   0,   0,  66, 200, 222, 237, 239, 242, 246, 243, 244,\n",
       "        221, 220, 193, 191, 179, 182, 182, 181, 176, 166, 168,  99,  58,\n",
       "          0,   0],\n",
       "       [  0,   0,   0,   0,   0,   0,   0,  40,  61,  44,  72,  41,  35,\n",
       "          0,   0,   0,   0,   0,   0,   0,   0,   0,   0,   0,   0,   0,\n",
       "          0,   0],\n",
       "       [  0,   0,   0,   0,   0,   0,   0,   0,   0,   0,   0,   0,   0,\n",
       "          0,   0,   0,   0,   0,   0,   0,   0,   0,   0,   0,   0,   0,\n",
       "          0,   0],\n",
       "       [  0,   0,   0,   0,   0,   0,   0,   0,   0,   0,   0,   0,   0,\n",
       "          0,   0,   0,   0,   0,   0,   0,   0,   0,   0,   0,   0,   0,\n",
       "          0,   0]], dtype=uint8)"
      ]
     },
     "execution_count": 9,
     "metadata": {},
     "output_type": "execute_result"
    }
   ],
   "source": [
    "X_train[0]"
   ]
  },
  {
   "cell_type": "code",
   "execution_count": 10,
   "metadata": {
    "colab": {
     "base_uri": "https://localhost:8080/",
     "height": 374
    },
    "executionInfo": {
     "elapsed": 465,
     "status": "ok",
     "timestamp": 1674839873240,
     "user": {
      "displayName": "Michael Gd",
      "userId": "11180041065344820766"
     },
     "user_tz": -180
    },
    "id": "i1s49c4VvL8L",
    "outputId": "c5705753-d632-4da9-c6e1-d5199934fe39"
   },
   "outputs": [
    {
     "data": {
      "image/png": "[encoded data removed]",
      "text/plain": [
       "<Figure size 1000x600 with 1 Axes>"
      ]
     },
     "metadata": {},
     "output_type": "display_data"
    }
   ],
   "source": [
    "plt.imshow(X_train[0], cmap=\"gray\");"
   ]
  },
  {
   "cell_type": "code",
   "execution_count": 11,
   "metadata": {
    "colab": {
     "base_uri": "https://localhost:8080/"
    },
    "executionInfo": {
     "elapsed": 516,
     "status": "ok",
     "timestamp": 1674839942171,
     "user": {
      "displayName": "Michael Gd",
      "userId": "11180041065344820766"
     },
     "user_tz": -180
    },
    "id": "rmUmP3gGvL8L",
    "outputId": "96cc70e5-1126-4a2b-89aa-2f1d88cb69d0"
   },
   "outputs": [
    {
     "data": {
      "text/plain": [
       "array([9, 0, 0, ..., 3, 0, 5], dtype=uint8)"
      ]
     },
     "execution_count": 11,
     "metadata": {},
     "output_type": "execute_result"
    }
   ],
   "source": [
    "y_train"
   ]
  },
  {
   "cell_type": "code",
   "execution_count": 12,
   "metadata": {
    "colab": {
     "base_uri": "https://localhost:8080/"
    },
    "executionInfo": {
     "elapsed": 351,
     "status": "ok",
     "timestamp": 1674839962289,
     "user": {
      "displayName": "Michael Gd",
      "userId": "11180041065344820766"
     },
     "user_tz": -180
    },
    "id": "2GSUTKCPvL8M",
    "outputId": "e6503c0d-d5b1-474c-a06c-1337bec20541"
   },
   "outputs": [
    {
     "data": {
      "text/plain": [
       "9"
      ]
     },
     "execution_count": 12,
     "metadata": {},
     "output_type": "execute_result"
    }
   ],
   "source": [
    "y_train[0]"
   ]
  },
  {
   "cell_type": "code",
   "execution_count": 13,
   "metadata": {
    "colab": {
     "base_uri": "https://localhost:8080/",
     "height": 36
    },
    "executionInfo": {
     "elapsed": 352,
     "status": "ok",
     "timestamp": 1674839981714,
     "user": {
      "displayName": "Michael Gd",
      "userId": "11180041065344820766"
     },
     "user_tz": -180
    },
    "id": "qFngpnaQvL8M",
    "outputId": "b7d375e4-6c9a-422e-fa56-7a73418a59ff"
   },
   "outputs": [
    {
     "data": {
      "text/plain": [
       "'Ankle boot'"
      ]
     },
     "execution_count": 13,
     "metadata": {},
     "output_type": "execute_result"
    }
   ],
   "source": [
    "classes[9]"
   ]
  },
  {
   "cell_type": "code",
   "execution_count": 14,
   "metadata": {
    "colab": {
     "base_uri": "https://localhost:8080/",
     "height": 315
    },
    "executionInfo": {
     "elapsed": 1538,
     "status": "ok",
     "timestamp": 1674840096357,
     "user": {
      "displayName": "Michael Gd",
      "userId": "11180041065344820766"
     },
     "user_tz": -180
    },
    "id": "RNwluMHgvL8N",
    "outputId": "74c2be36-c255-4ff6-b9fe-40aefa99111f"
   },
   "outputs": [
    {
     "name": "stderr",
     "output_type": "stream",
     "text": [
      "/tmp/ipykernel_4036/1461618456.py:13: UserWarning: This figure includes Axes that are not compatible with tight_layout, so results might be incorrect.\n",
      "  plt.tight_layout()\n"
     ]
    },
    {
     "data": {
      "image/png": "[encoded data removed]",
      "text/plain": [
       "<Figure size 1200x500 with 10 Axes>"
      ]
     },
     "metadata": {},
     "output_type": "display_data"
    }
   ],
   "source": [
    "num_rows, num_cols = 2, 5\n",
    "f, ax = plt.subplots(\n",
    "    2, 5, figsize=(12, 5), gridspec_kw={\"wspace\": 0.03, \"hspace\": 0.02}, squeeze=True\n",
    ")\n",
    "\n",
    "for r in range(num_rows):\n",
    "    for c in range(num_cols):\n",
    "        image_index = r * 5 + c\n",
    "        ax[r, c].axis(\"off\")\n",
    "        ax[r, c].set_title(\"No. %d\" % y_train[image_index])\n",
    "        ax[r, c].imshow(X_train[image_index], cmap=\"gray\")\n",
    "\n",
    "plt.tight_layout()\n",
    "plt.show()\n",
    "plt.close()"
   ]
  },
  {
   "cell_type": "markdown",
   "metadata": {
    "id": "U3Ub0eLgvL8N"
   },
   "source": [
    "# Data Preprocessing\n",
    "\n",
    "**TASK 3: Normalize the X train and X test data by dividing by the max value of the image arrays.**"
   ]
  },
  {
   "cell_type": "code",
   "execution_count": 15,
   "metadata": {
    "colab": {
     "base_uri": "https://localhost:8080/"
    },
    "executionInfo": {
     "elapsed": 536,
     "status": "ok",
     "timestamp": 1674840104956,
     "user": {
      "displayName": "Michael Gd",
      "userId": "11180041065344820766"
     },
     "user_tz": -180
    },
    "id": "br0rrQhevL8O",
    "outputId": "250034d8-bf0f-44a3-efcb-177ec50206a3"
   },
   "outputs": [
    {
     "data": {
      "text/plain": [
       "0"
      ]
     },
     "execution_count": 15,
     "metadata": {},
     "output_type": "execute_result"
    }
   ],
   "source": [
    "X_train.min()"
   ]
  },
  {
   "cell_type": "code",
   "execution_count": 16,
   "metadata": {
    "colab": {
     "base_uri": "https://localhost:8080/"
    },
    "executionInfo": {
     "elapsed": 349,
     "status": "ok",
     "timestamp": 1674840113764,
     "user": {
      "displayName": "Michael Gd",
      "userId": "11180041065344820766"
     },
     "user_tz": -180
    },
    "id": "n853xdzrvL8O",
    "outputId": "01ba3833-13ca-43f7-bc2e-032fb2468d67"
   },
   "outputs": [
    {
     "data": {
      "text/plain": [
       "255"
      ]
     },
     "execution_count": 16,
     "metadata": {},
     "output_type": "execute_result"
    }
   ],
   "source": [
    "X_train.max()"
   ]
  },
  {
   "cell_type": "code",
   "execution_count": 17,
   "metadata": {
    "executionInfo": {
     "elapsed": 364,
     "status": "ok",
     "timestamp": 1674840139545,
     "user": {
      "displayName": "Michael Gd",
      "userId": "11180041065344820766"
     },
     "user_tz": -180
    },
    "id": "cu2fJOLevL8P"
   },
   "outputs": [],
   "source": [
    "X_train = X_train / 255\n",
    "X_test = X_test / 255"
   ]
  },
  {
   "cell_type": "code",
   "execution_count": 18,
   "metadata": {
    "colab": {
     "base_uri": "https://localhost:8080/"
    },
    "executionInfo": {
     "elapsed": 542,
     "status": "ok",
     "timestamp": 1674840153218,
     "user": {
      "displayName": "Michael Gd",
      "userId": "11180041065344820766"
     },
     "user_tz": -180
    },
    "id": "631vfhb5vL8P",
    "outputId": "a06227fe-e86e-4da1-f227-234ed9490773"
   },
   "outputs": [
    {
     "data": {
      "text/plain": [
       "0.0"
      ]
     },
     "execution_count": 18,
     "metadata": {},
     "output_type": "execute_result"
    }
   ],
   "source": [
    "X_train.min()"
   ]
  },
  {
   "cell_type": "code",
   "execution_count": 19,
   "metadata": {
    "colab": {
     "base_uri": "https://localhost:8080/"
    },
    "executionInfo": {
     "elapsed": 3,
     "status": "ok",
     "timestamp": 1674840155079,
     "user": {
      "displayName": "Michael Gd",
      "userId": "11180041065344820766"
     },
     "user_tz": -180
    },
    "id": "VWS0_fZ3vL8P",
    "outputId": "1cfa6674-6618-405d-f7bf-319f92361f39"
   },
   "outputs": [
    {
     "data": {
      "text/plain": [
       "1.0"
      ]
     },
     "execution_count": 19,
     "metadata": {},
     "output_type": "execute_result"
    }
   ],
   "source": [
    "X_train.max()"
   ]
  },
  {
   "cell_type": "code",
   "execution_count": 20,
   "metadata": {
    "colab": {
     "base_uri": "https://localhost:8080/",
     "height": 374
    },
    "executionInfo": {
     "elapsed": 669,
     "status": "ok",
     "timestamp": 1674840198771,
     "user": {
      "displayName": "Michael Gd",
      "userId": "11180041065344820766"
     },
     "user_tz": -180
    },
    "id": "EldTUFdIvL8Q",
    "outputId": "18962165-5635-45aa-ec7c-1c1c26b4e87d"
   },
   "outputs": [
    {
     "data": {
      "image/png": "[encoded data removed]",
      "text/plain": [
       "<Figure size 1000x600 with 1 Axes>"
      ]
     },
     "metadata": {},
     "output_type": "display_data"
    }
   ],
   "source": [
    "plt.imshow(X_train[0]);"
   ]
  },
  {
   "cell_type": "markdown",
   "metadata": {
    "id": "lm-4hVezvL8Q"
   },
   "source": [
    "**Task 4: Reshape the X arrays to include a 4 dimension of the single channel. Similar to what we did for the numbers MNIST data set.**"
   ]
  },
  {
   "cell_type": "code",
   "execution_count": 21,
   "metadata": {
    "colab": {
     "base_uri": "https://localhost:8080/"
    },
    "executionInfo": {
     "elapsed": 394,
     "status": "ok",
     "timestamp": 1674840219001,
     "user": {
      "displayName": "Michael Gd",
      "userId": "11180041065344820766"
     },
     "user_tz": -180
    },
    "id": "2dl16zSVvL8Q",
    "outputId": "82fb0385-e5ae-431d-d78c-84843bddc731"
   },
   "outputs": [
    {
     "data": {
      "text/plain": [
       "(60000, 28, 28)"
      ]
     },
     "execution_count": 21,
     "metadata": {},
     "output_type": "execute_result"
    }
   ],
   "source": [
    "X_train.shape"
   ]
  },
  {
   "cell_type": "code",
   "execution_count": 22,
   "metadata": {
    "colab": {
     "base_uri": "https://localhost:8080/"
    },
    "executionInfo": {
     "elapsed": 357,
     "status": "ok",
     "timestamp": 1674840286324,
     "user": {
      "displayName": "Michael Gd",
      "userId": "11180041065344820766"
     },
     "user_tz": -180
    },
    "id": "4ZDqvqb-vL8R",
    "outputId": "a403912d-5907-492a-9ac8-8a1c1dac76f9"
   },
   "outputs": [
    {
     "data": {
      "text/plain": [
       "(60000, 28, 28, 1)"
      ]
     },
     "execution_count": 22,
     "metadata": {},
     "output_type": "execute_result"
    }
   ],
   "source": [
    "X_train.reshape(60000, 28, 28, 1).shape"
   ]
  },
  {
   "cell_type": "code",
   "execution_count": 23,
   "metadata": {
    "executionInfo": {
     "elapsed": 411,
     "status": "ok",
     "timestamp": 1674840322038,
     "user": {
      "displayName": "Michael Gd",
      "userId": "11180041065344820766"
     },
     "user_tz": -180
    },
    "id": "j3fxNH0CvL8R"
   },
   "outputs": [],
   "source": [
    "X_train = X_train.reshape(X_train.shape[0], 28, 28, 1)\n",
    "X_test = X_test.reshape(X_test.shape[0], 28, 28, 1)"
   ]
  },
  {
   "cell_type": "code",
   "execution_count": 24,
   "metadata": {
    "colab": {
     "base_uri": "https://localhost:8080/"
    },
    "executionInfo": {
     "elapsed": 350,
     "status": "ok",
     "timestamp": 1674840325891,
     "user": {
      "displayName": "Michael Gd",
      "userId": "11180041065344820766"
     },
     "user_tz": -180
    },
    "id": "Yhf4_soHvL8R",
    "outputId": "befa1a63-e326-439f-81d1-9a378fca12fe"
   },
   "outputs": [
    {
     "data": {
      "text/plain": [
       "((60000, 28, 28, 1), (10000, 28, 28, 1))"
      ]
     },
     "execution_count": 24,
     "metadata": {},
     "output_type": "execute_result"
    }
   ],
   "source": [
    "X_train.shape, X_test.shape"
   ]
  },
  {
   "cell_type": "markdown",
   "metadata": {
    "id": "CftFnFnwvL8R"
   },
   "source": [
    "**TASK 5: Convert the y_train and y_test values to be one-hot encoded for categorical analysis by Keras.**"
   ]
  },
  {
   "cell_type": "code",
   "execution_count": 25,
   "metadata": {
    "executionInfo": {
     "elapsed": 332,
     "status": "ok",
     "timestamp": 1674840351706,
     "user": {
      "displayName": "Michael Gd",
      "userId": "11180041065344820766"
     },
     "user_tz": -180
    },
    "id": "rTrToNhYvL8S"
   },
   "outputs": [],
   "source": [
    "from tensorflow.keras.utils import to_categorical"
   ]
  },
  {
   "cell_type": "code",
   "execution_count": 26,
   "metadata": {
    "colab": {
     "base_uri": "https://localhost:8080/"
    },
    "executionInfo": {
     "elapsed": 6,
     "status": "ok",
     "timestamp": 1674840355422,
     "user": {
      "displayName": "Michael Gd",
      "userId": "11180041065344820766"
     },
     "user_tz": -180
    },
    "id": "_GO20vDkvL8S",
    "outputId": "c4cdb8d8-3b37-4b2b-b2aa-5688db88b250"
   },
   "outputs": [
    {
     "data": {
      "text/plain": [
       "array([9, 0, 0, ..., 3, 0, 5], dtype=uint8)"
      ]
     },
     "execution_count": 26,
     "metadata": {},
     "output_type": "execute_result"
    }
   ],
   "source": [
    "y_train"
   ]
  },
  {
   "cell_type": "code",
   "execution_count": 27,
   "metadata": {
    "colab": {
     "base_uri": "https://localhost:8080/"
    },
    "executionInfo": {
     "elapsed": 463,
     "status": "ok",
     "timestamp": 1674840417851,
     "user": {
      "displayName": "Michael Gd",
      "userId": "11180041065344820766"
     },
     "user_tz": -180
    },
    "id": "vdTg9EnyvL8S",
    "outputId": "e720d600-ccbc-4dd0-fb1b-ceddb0af6bc5"
   },
   "outputs": [
    {
     "data": {
      "text/plain": [
       "(60000,)"
      ]
     },
     "execution_count": 27,
     "metadata": {},
     "output_type": "execute_result"
    }
   ],
   "source": [
    "y_train.shape"
   ]
  },
  {
   "cell_type": "code",
   "execution_count": 28,
   "metadata": {
    "colab": {
     "base_uri": "https://localhost:8080/"
    },
    "executionInfo": {
     "elapsed": 351,
     "status": "ok",
     "timestamp": 1674840577926,
     "user": {
      "displayName": "Michael Gd",
      "userId": "11180041065344820766"
     },
     "user_tz": -180
    },
    "id": "55uZTaGkvL8S",
    "outputId": "c709e7a6-af61-41c1-83f1-9dac397d187a"
   },
   "outputs": [
    {
     "data": {
      "text/plain": [
       "(60000, 10)"
      ]
     },
     "execution_count": 28,
     "metadata": {},
     "output_type": "execute_result"
    }
   ],
   "source": [
    "Y_train = to_categorical(y_train, 10)\n",
    "Y_test = to_categorical(y_test, 10)\n",
    "Y_train.shape"
   ]
  },
  {
   "cell_type": "code",
   "execution_count": 29,
   "metadata": {
    "colab": {
     "base_uri": "https://localhost:8080/"
    },
    "executionInfo": {
     "elapsed": 330,
     "status": "ok",
     "timestamp": 1674840580356,
     "user": {
      "displayName": "Michael Gd",
      "userId": "11180041065344820766"
     },
     "user_tz": -180
    },
    "id": "6-iO2kcxvL8T",
    "outputId": "4e21d00c-c9f8-4bb0-bc4a-78bf60f341d3"
   },
   "outputs": [
    {
     "data": {
      "text/plain": [
       "5"
      ]
     },
     "execution_count": 29,
     "metadata": {},
     "output_type": "execute_result"
    }
   ],
   "source": [
    "y_train[8]"
   ]
  },
  {
   "cell_type": "code",
   "execution_count": 30,
   "metadata": {
    "colab": {
     "base_uri": "https://localhost:8080/"
    },
    "executionInfo": {
     "elapsed": 6,
     "status": "ok",
     "timestamp": 1674840581348,
     "user": {
      "displayName": "Michael Gd",
      "userId": "11180041065344820766"
     },
     "user_tz": -180
    },
    "id": "A8ReqmzpvL8T",
    "outputId": "207f4cf8-6393-4d3a-f0e7-8af56dec304b"
   },
   "outputs": [
    {
     "data": {
      "text/plain": [
       "array([0., 0., 0., 0., 0., 1., 0., 0., 0., 0.], dtype=float32)"
      ]
     },
     "execution_count": 30,
     "metadata": {},
     "output_type": "execute_result"
    }
   ],
   "source": [
    "Y_train[8]"
   ]
  },
  {
   "cell_type": "markdown",
   "metadata": {
    "id": "hNiqfz6CvL8T"
   },
   "source": [
    "# Modeling"
   ]
  },
  {
   "cell_type": "markdown",
   "metadata": {
    "id": "uEvq7ykPvL8U"
   },
   "source": [
    "## Create The Model\n",
    "\n",
    "**TASK 5: Use Keras to create a model consisting of at least the following layers (but feel free to experiment):**\n",
    "\n",
    "* 2D Convolutional Layer, filters=28 and kernel_size=(3,3)\n",
    "* Pooling Layer where pool_size = (3,3) strides=(1,1)\n",
    "\n",
    "* Flatten Layer\n",
    "* Dense Layer (128 Neurons, but feel free to play around with this value), RELU activation\n",
    "\n",
    "* Final Dense Layer of 10 Neurons with a softmax activation\n",
    "\n",
    "**Then compile the model with these parameters: loss='categorical_crossentropy', optimizer='rmsprop', metrics=['accuracy']**"
   ]
  },
  {
   "cell_type": "code",
   "execution_count": 31,
   "metadata": {
    "executionInfo": {
     "elapsed": 349,
     "status": "ok",
     "timestamp": 1674840752247,
     "user": {
      "displayName": "Michael Gd",
      "userId": "11180041065344820766"
     },
     "user_tz": -180
    },
    "id": "zwWcUw_pvL8U"
   },
   "outputs": [],
   "source": [
    "from tensorflow.keras.models import Sequential\n",
    "from tensorflow.keras.layers import Dense, Conv2D, MaxPool2D, Flatten, Dropout"
   ]
  },
  {
   "cell_type": "code",
   "execution_count": 32,
   "metadata": {
    "executionInfo": {
     "elapsed": 2476,
     "status": "ok",
     "timestamp": 1674840889087,
     "user": {
      "displayName": "Michael Gd",
      "userId": "11180041065344820766"
     },
     "user_tz": -180
    },
    "id": "wnTqysmdvL8U"
   },
   "outputs": [],
   "source": [
    "model = Sequential()\n",
    "model.add(\n",
    "    Conv2D(filters=28, kernel_size=(3, 3), input_shape=(28, 28, 1), activation=\"relu\")\n",
    ")\n",
    "model.add(MaxPool2D(pool_size=(3, 3), strides=(1, 1)))\n",
    "model.add(Flatten())\n",
    "model.add(Dense(256, activation=\"relu\"))\n",
    "model.add(Dropout(0.4))\n",
    "model.add(Dense(10, activation=\"softmax\"))\n",
    "\n",
    "model.compile(\n",
    "    loss=\"categorical_crossentropy\", optimizer=\"rmsprop\", metrics=[\"accuracy\"]\n",
    ")"
   ]
  },
  {
   "cell_type": "code",
   "execution_count": 33,
   "metadata": {
    "colab": {
     "base_uri": "https://localhost:8080/"
    },
    "executionInfo": {
     "elapsed": 509,
     "status": "ok",
     "timestamp": 1674840891929,
     "user": {
      "displayName": "Michael Gd",
      "userId": "11180041065344820766"
     },
     "user_tz": -180
    },
    "id": "5xC_cdzkvL8U",
    "outputId": "f4fa0c85-d63b-4f69-f23c-c981db120d50"
   },
   "outputs": [
    {
     "name": "stdout",
     "output_type": "stream",
     "text": [
      "Model: \"sequential\"\n",
      "_________________________________________________________________\n",
      " Layer (type)                Output Shape              Param #   \n",
      "=================================================================\n",
      " conv2d (Conv2D)             (None, 26, 26, 28)        280       \n",
      "                                                                 \n",
      " max_pooling2d (MaxPooling2D  (None, 24, 24, 28)       0         \n",
      " )                                                               \n",
      "                                                                 \n",
      " flatten (Flatten)           (None, 16128)             0         \n",
      "                                                                 \n",
      " dense (Dense)               (None, 256)               4129024   \n",
      "                                                                 \n",
      " dropout (Dropout)           (None, 256)               0         \n",
      "                                                                 \n",
      " dense_1 (Dense)             (None, 10)                2570      \n",
      "                                                                 \n",
      "=================================================================\n",
      "Total params: 4,131,874\n",
      "Trainable params: 4,131,874\n",
      "Non-trainable params: 0\n",
      "_________________________________________________________________\n"
     ]
    }
   ],
   "source": [
    "model.summary()"
   ]
  },
  {
   "cell_type": "markdown",
   "metadata": {
    "id": "2pvJByc2vL8V"
   },
   "source": [
    "Number of parameter in CL\n",
    "\n",
    "$((n \\times m \\times l) + 1) \\times k$\n",
    "\n",
    "$n \\times m $: filter shape\n",
    "\n",
    "$l $: number of input channel (feature maps as input)\n",
    "\n",
    "$k $: number of output channel (feature maps as output)"
   ]
  },
  {
   "cell_type": "code",
   "execution_count": 34,
   "metadata": {
    "colab": {
     "base_uri": "https://localhost:8080/"
    },
    "executionInfo": {
     "elapsed": 11,
     "status": "ok",
     "timestamp": 1674818241089,
     "user": {
      "displayName": "Michael Gd",
      "userId": "11180041065344820766"
     },
     "user_tz": -180
    },
    "id": "8ILjJ7I5vL8V",
    "outputId": "466f0e5e-a7b9-41cb-ec1c-fc6967d007b1"
   },
   "outputs": [
    {
     "data": {
      "text/plain": [
       "280"
      ]
     },
     "execution_count": 34,
     "metadata": {},
     "output_type": "execute_result"
    }
   ],
   "source": [
    "((3 * 3 * 1) + 1) * 28"
   ]
  },
  {
   "cell_type": "markdown",
   "metadata": {
    "id": "OQyKmcArvL8V"
   },
   "source": [
    "## Model Training\n",
    "\n",
    "**TASK 6: Train/Fit the model to the x_train set by using EarlyStop. Amount of epochs is up to you.**"
   ]
  },
  {
   "cell_type": "code",
   "execution_count": 35,
   "metadata": {
    "executionInfo": {
     "elapsed": 339,
     "status": "ok",
     "timestamp": 1674840966148,
     "user": {
      "displayName": "Michael Gd",
      "userId": "11180041065344820766"
     },
     "user_tz": -180
    },
    "id": "lX3gmgEuvL8V"
   },
   "outputs": [],
   "source": [
    "from tensorflow.keras.callbacks import EarlyStopping"
   ]
  },
  {
   "cell_type": "code",
   "execution_count": 36,
   "metadata": {
    "executionInfo": {
     "elapsed": 485,
     "status": "ok",
     "timestamp": 1674841012749,
     "user": {
      "displayName": "Michael Gd",
      "userId": "11180041065344820766"
     },
     "user_tz": -180
    },
    "id": "otrG8CQEvL8W"
   },
   "outputs": [],
   "source": [
    "early_stop = EarlyStopping(monitor=\"val_loss\", patience=3, restore_best_weights=True)"
   ]
  },
  {
   "cell_type": "code",
   "execution_count": 37,
   "metadata": {
    "colab": {
     "base_uri": "https://localhost:8080/"
    },
    "executionInfo": {
     "elapsed": 54208,
     "status": "ok",
     "timestamp": 1674841094704,
     "user": {
      "displayName": "Michael Gd",
      "userId": "11180041065344820766"
     },
     "user_tz": -180
    },
    "id": "RiwBJuMZvL8W",
    "outputId": "ac94774c-9421-4cc6-d95d-fc8d08a3f4b9"
   },
   "outputs": [
    {
     "name": "stdout",
     "output_type": "stream",
     "text": [
      "Epoch 1/10\n",
      "1875/1875 [==============================] - 10s 4ms/step - loss: 0.4334 - accuracy: 0.8493 - val_loss: 0.3144 - val_accuracy: 0.8873\n",
      "Epoch 2/10\n",
      "1875/1875 [==============================] - 8s 4ms/step - loss: 0.3054 - accuracy: 0.8907 - val_loss: 0.3012 - val_accuracy: 0.8913\n",
      "Epoch 3/10\n",
      "1875/1875 [==============================] - 8s 4ms/step - loss: 0.2804 - accuracy: 0.9003 - val_loss: 0.2899 - val_accuracy: 0.9009\n",
      "Epoch 4/10\n",
      "1875/1875 [==============================] - 8s 4ms/step - loss: 0.2652 - accuracy: 0.9059 - val_loss: 0.2845 - val_accuracy: 0.9040\n",
      "Epoch 5/10\n",
      "1875/1875 [==============================] - 8s 5ms/step - loss: 0.2628 - accuracy: 0.9077 - val_loss: 0.2861 - val_accuracy: 0.9027\n",
      "Epoch 6/10\n",
      "1875/1875 [==============================] - 8s 4ms/step - loss: 0.2563 - accuracy: 0.9093 - val_loss: 0.2765 - val_accuracy: 0.9062\n",
      "Epoch 7/10\n",
      "1875/1875 [==============================] - 8s 4ms/step - loss: 0.2550 - accuracy: 0.9116 - val_loss: 0.2903 - val_accuracy: 0.9053\n",
      "Epoch 8/10\n",
      "1875/1875 [==============================] - 8s 4ms/step - loss: 0.2528 - accuracy: 0.9120 - val_loss: 0.3110 - val_accuracy: 0.9042\n",
      "Epoch 9/10\n",
      "1875/1875 [==============================] - 8s 5ms/step - loss: 0.2526 - accuracy: 0.9128 - val_loss: 0.3144 - val_accuracy: 0.8986\n"
     ]
    },
    {
     "data": {
      "text/plain": [
       "<keras.callbacks.History at 0x7f4d0008cf10>"
      ]
     },
     "execution_count": 37,
     "metadata": {},
     "output_type": "execute_result"
    }
   ],
   "source": [
    "model.fit(\n",
    "    X_train,\n",
    "    Y_train,\n",
    "    batch_size=32,\n",
    "    epochs=10,\n",
    "    validation_data=(X_test, Y_test),\n",
    "    callbacks=[early_stop],\n",
    ")"
   ]
  },
  {
   "cell_type": "markdown",
   "metadata": {
    "id": "IQxqh8GQvL8W"
   },
   "source": [
    "**TASK 7: Plot values of metrics you used in your model.**"
   ]
  },
  {
   "cell_type": "code",
   "execution_count": 38,
   "metadata": {
    "colab": {
     "base_uri": "https://localhost:8080/"
    },
    "executionInfo": {
     "elapsed": 375,
     "status": "ok",
     "timestamp": 1674841128982,
     "user": {
      "displayName": "Michael Gd",
      "userId": "11180041065344820766"
     },
     "user_tz": -180
    },
    "id": "ZgGWKCytvL8W",
    "outputId": "f80fabaf-192b-45e0-ba88-a60bd924d69e"
   },
   "outputs": [
    {
     "data": {
      "text/plain": [
       "['loss', 'accuracy']"
      ]
     },
     "execution_count": 38,
     "metadata": {},
     "output_type": "execute_result"
    }
   ],
   "source": [
    "model.metrics_names"
   ]
  },
  {
   "cell_type": "code",
   "execution_count": 39,
   "metadata": {
    "colab": {
     "base_uri": "https://localhost:8080/",
     "height": 206
    },
    "executionInfo": {
     "elapsed": 364,
     "status": "ok",
     "timestamp": 1674841137174,
     "user": {
      "displayName": "Michael Gd",
      "userId": "11180041065344820766"
     },
     "user_tz": -180
    },
    "id": "RtZ1cIYgvL8X",
    "outputId": "b15bacc4-3032-4b3d-dd30-d65ab6f8bade"
   },
   "outputs": [
    {
     "data": {
      "text/html": [
       "<div>\n",
       "<style scoped>\n",
       "    .dataframe tbody tr th:only-of-type {\n",
       "        vertical-align: middle;\n",
       "    }\n",
       "\n",
       "    .dataframe tbody tr th {\n",
       "        vertical-align: top;\n",
       "    }\n",
       "\n",
       "    .dataframe thead th {\n",
       "        text-align: right;\n",
       "    }\n",
       "</style>\n",
       "<table border=\"1\" class=\"dataframe\">\n",
       "  <thead>\n",
       "    <tr style=\"text-align: right;\">\n",
       "      <th></th>\n",
       "      <th>loss</th>\n",
       "      <th>accuracy</th>\n",
       "      <th>val_loss</th>\n",
       "      <th>val_accuracy</th>\n",
       "    </tr>\n",
       "  </thead>\n",
       "  <tbody>\n",
       "    <tr>\n",
       "      <th>0</th>\n",
       "      <td>0.433</td>\n",
       "      <td>0.849</td>\n",
       "      <td>0.314</td>\n",
       "      <td>0.887</td>\n",
       "    </tr>\n",
       "    <tr>\n",
       "      <th>1</th>\n",
       "      <td>0.305</td>\n",
       "      <td>0.891</td>\n",
       "      <td>0.301</td>\n",
       "      <td>0.891</td>\n",
       "    </tr>\n",
       "    <tr>\n",
       "      <th>2</th>\n",
       "      <td>0.280</td>\n",
       "      <td>0.900</td>\n",
       "      <td>0.290</td>\n",
       "      <td>0.901</td>\n",
       "    </tr>\n",
       "    <tr>\n",
       "      <th>3</th>\n",
       "      <td>0.265</td>\n",
       "      <td>0.906</td>\n",
       "      <td>0.284</td>\n",
       "      <td>0.904</td>\n",
       "    </tr>\n",
       "    <tr>\n",
       "      <th>4</th>\n",
       "      <td>0.263</td>\n",
       "      <td>0.908</td>\n",
       "      <td>0.286</td>\n",
       "      <td>0.903</td>\n",
       "    </tr>\n",
       "  </tbody>\n",
       "</table>\n",
       "</div>"
      ],
      "text/plain": [
       "   loss  accuracy  val_loss  val_accuracy\n",
       "0 0.433     0.849     0.314         0.887\n",
       "1 0.305     0.891     0.301         0.891\n",
       "2 0.280     0.900     0.290         0.901\n",
       "3 0.265     0.906     0.284         0.904\n",
       "4 0.263     0.908     0.286         0.903"
      ]
     },
     "execution_count": 39,
     "metadata": {},
     "output_type": "execute_result"
    }
   ],
   "source": [
    "summary = pd.DataFrame(model.history.history)\n",
    "summary.head()"
   ]
  },
  {
   "cell_type": "code",
   "execution_count": 40,
   "metadata": {
    "colab": {
     "base_uri": "https://localhost:8080/",
     "height": 374
    },
    "executionInfo": {
     "elapsed": 430,
     "status": "ok",
     "timestamp": 1674841141202,
     "user": {
      "displayName": "Michael Gd",
      "userId": "11180041065344820766"
     },
     "user_tz": -180
    },
    "id": "l97WE2ROvL8X",
    "outputId": "0b11edcf-482c-46a6-bf94-4a4010b4478a"
   },
   "outputs": [
    {
     "data": {
      "image/png": "[encoded data removed]",
      "text/plain": [
       "<Figure size 1000x600 with 1 Axes>"
      ]
     },
     "metadata": {},
     "output_type": "display_data"
    }
   ],
   "source": [
    "summary.plot();"
   ]
  },
  {
   "cell_type": "code",
   "execution_count": 41,
   "metadata": {
    "colab": {
     "base_uri": "https://localhost:8080/",
     "height": 375
    },
    "executionInfo": {
     "elapsed": 541,
     "status": "ok",
     "timestamp": 1674841201413,
     "user": {
      "displayName": "Michael Gd",
      "userId": "11180041065344820766"
     },
     "user_tz": -180
    },
    "id": "foAFtB_2vL8X",
    "outputId": "a5f8765f-1059-43e7-cb97-7b6b8f6bdb29"
   },
   "outputs": [
    {
     "data": {
      "image/png": "[encoded data removed]",
      "text/plain": [
       "<Figure size 1000x600 with 1 Axes>"
      ]
     },
     "metadata": {},
     "output_type": "display_data"
    }
   ],
   "source": [
    "summary[[\"loss\", \"val_loss\"]].plot();"
   ]
  },
  {
   "cell_type": "code",
   "execution_count": 42,
   "metadata": {
    "colab": {
     "base_uri": "https://localhost:8080/",
     "height": 374
    },
    "executionInfo": {
     "elapsed": 604,
     "status": "ok",
     "timestamp": 1674841241452,
     "user": {
      "displayName": "Michael Gd",
      "userId": "11180041065344820766"
     },
     "user_tz": -180
    },
    "id": "AkDCCa87vL8X",
    "outputId": "715c6eba-48df-4bca-a965-f26041653e47"
   },
   "outputs": [
    {
     "data": {
      "image/png": "[encoded data removed]",
      "text/plain": [
       "<Figure size 1000x600 with 1 Axes>"
      ]
     },
     "metadata": {},
     "output_type": "display_data"
    }
   ],
   "source": [
    "summary[[\"accuracy\", \"val_accuracy\"]].plot();"
   ]
  },
  {
   "cell_type": "markdown",
   "metadata": {
    "id": "LlkEzbh5vL8Y"
   },
   "source": [
    "## Model Evaluation\n",
    "\n",
    "**TASK 8: Show the accuracy,precision,recall,f1-score the model achieved on the x_test data set. Keep in mind, there are quite a few ways to do this, but we recommend following the same procedure we showed in the MNIST lecture.**"
   ]
  },
  {
   "cell_type": "code",
   "execution_count": 43,
   "metadata": {
    "executionInfo": {
     "elapsed": 709,
     "status": "ok",
     "timestamp": 1674841266343,
     "user": {
      "displayName": "Michael Gd",
      "userId": "11180041065344820766"
     },
     "user_tz": -180
    },
    "id": "QXseoLGuvL8Y"
   },
   "outputs": [],
   "source": [
    "from sklearn.metrics import classification_report, confusion_matrix"
   ]
  },
  {
   "cell_type": "code",
   "execution_count": 44,
   "metadata": {
    "colab": {
     "base_uri": "https://localhost:8080/"
    },
    "executionInfo": {
     "elapsed": 1199,
     "status": "ok",
     "timestamp": 1674841275975,
     "user": {
      "displayName": "Michael Gd",
      "userId": "11180041065344820766"
     },
     "user_tz": -180
    },
    "id": "S7iCQXs3vL8Y",
    "outputId": "c9ce0e12-e1ce-4c8f-de7d-a0ab56840764"
   },
   "outputs": [
    {
     "name": "stdout",
     "output_type": "stream",
     "text": [
      "313/313 [==============================] - 1s 4ms/step - loss: 0.2765 - accuracy: 0.9062\n"
     ]
    },
    {
     "data": {
      "text/plain": [
       "[0.276461124420166, 0.9061999917030334]"
      ]
     },
     "execution_count": 44,
     "metadata": {},
     "output_type": "execute_result"
    }
   ],
   "source": [
    "model.evaluate(X_test, Y_test)"
   ]
  },
  {
   "cell_type": "code",
   "execution_count": 45,
   "metadata": {
    "colab": {
     "base_uri": "https://localhost:8080/"
    },
    "executionInfo": {
     "elapsed": 1653,
     "status": "ok",
     "timestamp": 1674841311443,
     "user": {
      "displayName": "Michael Gd",
      "userId": "11180041065344820766"
     },
     "user_tz": -180
    },
    "id": "C68cykJtvL8Y",
    "outputId": "211f6b35-86d6-4fd4-c073-35cbfb0252da"
   },
   "outputs": [
    {
     "name": "stdout",
     "output_type": "stream",
     "text": [
      "Test loss: 0.276461124420166\n",
      "Test accuracy: 0.9061999917030334\n"
     ]
    }
   ],
   "source": [
    "score = model.evaluate(X_test, Y_test, verbose=0)\n",
    "print(\"Test loss:\", score[0])\n",
    "print(\"Test accuracy:\", score[1])"
   ]
  },
  {
   "cell_type": "code",
   "execution_count": 46,
   "metadata": {
    "colab": {
     "base_uri": "https://localhost:8080/"
    },
    "executionInfo": {
     "elapsed": 962,
     "status": "ok",
     "timestamp": 1674841330240,
     "user": {
      "displayName": "Michael Gd",
      "userId": "11180041065344820766"
     },
     "user_tz": -180
    },
    "id": "8XaJNjMovL8Z",
    "outputId": "8eae5985-2145-4805-99c9-21e5280d94da"
   },
   "outputs": [
    {
     "name": "stdout",
     "output_type": "stream",
     "text": [
      "313/313 [==============================] - 1s 2ms/step\n"
     ]
    },
    {
     "data": {
      "text/plain": [
       "array([[2.5937914e-07, 2.4276851e-06, 5.8225637e-06, ..., 2.4267221e-03,\n",
       "        1.2209715e-06, 9.9590588e-01],\n",
       "       [2.2698295e-10, 6.7218504e-18, 1.0000000e+00, ..., 2.0654606e-15,\n",
       "        5.5164846e-15, 1.4436505e-17],\n",
       "       [4.9848342e-10, 1.0000000e+00, 6.7907884e-12, ..., 1.2267627e-10,\n",
       "        1.1061784e-13, 3.1393036e-15],\n",
       "       ...,\n",
       "       [7.1368267e-09, 1.2000773e-12, 7.4832321e-11, ..., 4.3508955e-13,\n",
       "        9.9999988e-01, 3.2810115e-12],\n",
       "       [1.1555983e-09, 1.0000000e+00, 8.5719633e-11, ..., 1.3733333e-09,\n",
       "        2.5973314e-12, 3.1381230e-12],\n",
       "       [1.8267984e-02, 1.8959956e-03, 5.4997336e-02, ..., 1.7661843e-01,\n",
       "        1.3569432e-02, 8.9950681e-02]], dtype=float32)"
      ]
     },
     "execution_count": 46,
     "metadata": {},
     "output_type": "execute_result"
    }
   ],
   "source": [
    "pred_prob = model.predict(X_test)\n",
    "pred_prob"
   ]
  },
  {
   "cell_type": "code",
   "execution_count": 47,
   "metadata": {
    "colab": {
     "base_uri": "https://localhost:8080/"
    },
    "executionInfo": {
     "elapsed": 331,
     "status": "ok",
     "timestamp": 1674841378220,
     "user": {
      "displayName": "Michael Gd",
      "userId": "11180041065344820766"
     },
     "user_tz": -180
    },
    "id": "1YLOgB24vL8Z",
    "outputId": "9b85b87a-7190-4db0-f770-ca493901e177"
   },
   "outputs": [
    {
     "data": {
      "text/plain": [
       "(10000, 10)"
      ]
     },
     "execution_count": 47,
     "metadata": {},
     "output_type": "execute_result"
    }
   ],
   "source": [
    "pred_prob.shape"
   ]
  },
  {
   "cell_type": "code",
   "execution_count": 48,
   "metadata": {
    "colab": {
     "base_uri": "https://localhost:8080/"
    },
    "executionInfo": {
     "elapsed": 383,
     "status": "ok",
     "timestamp": 1674841384101,
     "user": {
      "displayName": "Michael Gd",
      "userId": "11180041065344820766"
     },
     "user_tz": -180
    },
    "id": "wYUIO68DvL8Z",
    "outputId": "cbd3ffed-52f0-44a6-f2b2-4e81ec91fc21"
   },
   "outputs": [
    {
     "data": {
      "text/plain": [
       "array([2.5937914e-07, 2.4276851e-06, 5.8225637e-06, 4.9425589e-06,\n",
       "       1.0340050e-06, 1.6497211e-03, 1.9308179e-06, 2.4267221e-03,\n",
       "       1.2209715e-06, 9.9590588e-01], dtype=float32)"
      ]
     },
     "execution_count": 48,
     "metadata": {},
     "output_type": "execute_result"
    }
   ],
   "source": [
    "pred_prob[0]"
   ]
  },
  {
   "cell_type": "code",
   "execution_count": 49,
   "metadata": {
    "colab": {
     "base_uri": "https://localhost:8080/"
    },
    "executionInfo": {
     "elapsed": 345,
     "status": "ok",
     "timestamp": 1674841432005,
     "user": {
      "displayName": "Michael Gd",
      "userId": "11180041065344820766"
     },
     "user_tz": -180
    },
    "id": "MGrgv2pMvL8a",
    "outputId": "cb4289f0-0979-400a-d0d3-1194e18b6d2f"
   },
   "outputs": [
    {
     "data": {
      "text/plain": [
       "9"
      ]
     },
     "execution_count": 49,
     "metadata": {},
     "output_type": "execute_result"
    }
   ],
   "source": [
    "np.argmax(pred_prob[0])"
   ]
  },
  {
   "cell_type": "code",
   "execution_count": 50,
   "metadata": {
    "colab": {
     "base_uri": "https://localhost:8080/"
    },
    "executionInfo": {
     "elapsed": 328,
     "status": "ok",
     "timestamp": 1674841513925,
     "user": {
      "displayName": "Michael Gd",
      "userId": "11180041065344820766"
     },
     "user_tz": -180
    },
    "id": "a08sjP4IvL8a",
    "outputId": "a5444b3e-fcd7-4f30-b5f1-05b7cd9ae942"
   },
   "outputs": [
    {
     "data": {
      "text/plain": [
       "array([9, 2, 1, ..., 8, 1, 5])"
      ]
     },
     "execution_count": 50,
     "metadata": {},
     "output_type": "execute_result"
    }
   ],
   "source": [
    "y_pred = np.argmax(pred_prob, axis=1)\n",
    "y_pred"
   ]
  },
  {
   "cell_type": "code",
   "execution_count": 51,
   "metadata": {
    "colab": {
     "base_uri": "https://localhost:8080/"
    },
    "executionInfo": {
     "elapsed": 4,
     "status": "ok",
     "timestamp": 1674841515001,
     "user": {
      "displayName": "Michael Gd",
      "userId": "11180041065344820766"
     },
     "user_tz": -180
    },
    "id": "RgxGEyDvvL8a",
    "outputId": "dfca6f62-1345-4f62-96b3-993df4b039b8"
   },
   "outputs": [
    {
     "data": {
      "text/plain": [
       "(10000,)"
      ]
     },
     "execution_count": 51,
     "metadata": {},
     "output_type": "execute_result"
    }
   ],
   "source": [
    "y_pred.shape"
   ]
  },
  {
   "cell_type": "code",
   "execution_count": 52,
   "metadata": {
    "colab": {
     "base_uri": "https://localhost:8080/"
    },
    "executionInfo": {
     "elapsed": 326,
     "status": "ok",
     "timestamp": 1674841519960,
     "user": {
      "displayName": "Michael Gd",
      "userId": "11180041065344820766"
     },
     "user_tz": -180
    },
    "id": "STn5V1nJvL8b",
    "outputId": "c59c4fac-ffaf-4b13-c4c9-2e93edcfd922"
   },
   "outputs": [
    {
     "name": "stdout",
     "output_type": "stream",
     "text": [
      "              precision    recall  f1-score   support\n",
      "\n",
      "           0       0.88      0.85      0.87      1000\n",
      "           1       0.99      0.98      0.98      1000\n",
      "           2       0.81      0.87      0.84      1000\n",
      "           3       0.90      0.93      0.91      1000\n",
      "           4       0.83      0.85      0.84      1000\n",
      "           5       0.99      0.98      0.98      1000\n",
      "           6       0.77      0.70      0.73      1000\n",
      "           7       0.93      0.99      0.96      1000\n",
      "           8       0.99      0.97      0.98      1000\n",
      "           9       0.98      0.94      0.96      1000\n",
      "\n",
      "    accuracy                           0.91     10000\n",
      "   macro avg       0.91      0.91      0.91     10000\n",
      "weighted avg       0.91      0.91      0.91     10000\n",
      "\n"
     ]
    }
   ],
   "source": [
    "print(classification_report(y_test, y_pred))"
   ]
  },
  {
   "cell_type": "code",
   "execution_count": 53,
   "metadata": {
    "colab": {
     "base_uri": "https://localhost:8080/"
    },
    "executionInfo": {
     "elapsed": 4,
     "status": "ok",
     "timestamp": 1674841568980,
     "user": {
      "displayName": "Michael Gd",
      "userId": "11180041065344820766"
     },
     "user_tz": -180
    },
    "id": "Ku47_-MtVg3Y",
    "outputId": "9159f934-889e-4e90-ffdf-320c30e0b860"
   },
   "outputs": [
    {
     "data": {
      "text/plain": [
       "['T-shirt/top',\n",
       " 'Trouser',\n",
       " 'Pullover',\n",
       " 'Dress',\n",
       " 'Coat',\n",
       " 'Sandal',\n",
       " 'Shirt',\n",
       " 'Sneaker',\n",
       " 'Bag',\n",
       " 'Ankle boot']"
      ]
     },
     "execution_count": 53,
     "metadata": {},
     "output_type": "execute_result"
    }
   ],
   "source": [
    "classes"
   ]
  },
  {
   "cell_type": "code",
   "execution_count": 54,
   "metadata": {
    "colab": {
     "base_uri": "https://localhost:8080/"
    },
    "executionInfo": {
     "elapsed": 350,
     "status": "ok",
     "timestamp": 1674841549939,
     "user": {
      "displayName": "Michael Gd",
      "userId": "11180041065344820766"
     },
     "user_tz": -180
    },
    "id": "mfTAX7povL8b",
    "outputId": "b2d0d568-cd89-46fe-e30a-ec3d3b8d9503"
   },
   "outputs": [
    {
     "name": "stdout",
     "output_type": "stream",
     "text": [
      "[[854   0  25  17   6   0  94   0   4   0]\n",
      " [  0 981   0  10   4   0   3   0   2   0]\n",
      " [ 12   0 870  10  57   0  51   0   0   0]\n",
      " [  8   8  10 932  21   0  20   0   1   0]\n",
      " [  1   0  80  35 851   0  32   0   1   0]\n",
      " [  0   0   0   1   0 976   0  15   0   8]\n",
      " [ 98   1  85  30  80   0 700   0   6   0]\n",
      " [  0   0   0   0   0   4   0 989   0   7]\n",
      " [  1   2   1   5   2   1  11   3 974   0]\n",
      " [  0   0   0   0   0   6   1  58   0 935]]\n"
     ]
    }
   ],
   "source": [
    "print(confusion_matrix(y_test, y_pred))"
   ]
  },
  {
   "cell_type": "code",
   "execution_count": 55,
   "metadata": {
    "colab": {
     "base_uri": "https://localhost:8080/"
    },
    "executionInfo": {
     "elapsed": 448,
     "status": "ok",
     "timestamp": 1674841768927,
     "user": {
      "displayName": "Michael Gd",
      "userId": "11180041065344820766"
     },
     "user_tz": -180
    },
    "id": "aaYQ3BDavL8b",
    "outputId": "e695fe83-68e7-406f-e450-e56cd6a15b3e"
   },
   "outputs": [
    {
     "data": {
      "text/plain": [
       "938"
      ]
     },
     "execution_count": 55,
     "metadata": {},
     "output_type": "execute_result"
    }
   ],
   "source": [
    "(y_test != y_pred).sum()"
   ]
  },
  {
   "cell_type": "markdown",
   "metadata": {
    "id": "DMH88ephvL8b"
   },
   "source": [
    "## Prediction"
   ]
  },
  {
   "cell_type": "code",
   "execution_count": 56,
   "metadata": {
    "executionInfo": {
     "elapsed": 352,
     "status": "ok",
     "timestamp": 1674841800878,
     "user": {
      "displayName": "Michael Gd",
      "userId": "11180041065344820766"
     },
     "user_tz": -180
    },
    "id": "5jqMuoZlvL8c"
   },
   "outputs": [],
   "source": [
    "samples = [X_test[0], X_test[1], X_test[2]]"
   ]
  },
  {
   "cell_type": "code",
   "execution_count": 57,
   "metadata": {
    "colab": {
     "base_uri": "https://localhost:8080/",
     "height": 291
    },
    "executionInfo": {
     "elapsed": 2569,
     "status": "ok",
     "timestamp": 1674841811086,
     "user": {
      "displayName": "Michael Gd",
      "userId": "11180041065344820766"
     },
     "user_tz": -180
    },
    "id": "2o76yEWUvL8c",
    "outputId": "1f226bd6-ee8c-42d0-b67f-a1fb6c565ea6"
   },
   "outputs": [
    {
     "data": {
      "image/png": "[encoded data removed]",
      "text/plain": [
       "<Figure size 2000x500 with 3 Axes>"
      ]
     },
     "metadata": {},
     "output_type": "display_data"
    }
   ],
   "source": [
    "plt.figure(figsize=(20, 5))\n",
    "index = 1\n",
    "for i in samples:\n",
    "    plt.subplot(1, 4, index)\n",
    "    plt.imshow(i.reshape(28, 28))\n",
    "    index += 1"
   ]
  },
  {
   "cell_type": "code",
   "execution_count": 58,
   "metadata": {
    "colab": {
     "base_uri": "https://localhost:8080/"
    },
    "executionInfo": {
     "elapsed": 377,
     "status": "ok",
     "timestamp": 1674841819844,
     "user": {
      "displayName": "Michael Gd",
      "userId": "11180041065344820766"
     },
     "user_tz": -180
    },
    "id": "vS2ARu4KvL8c",
    "outputId": "c3a3d00f-0f23-41f9-a6ab-80b2efb3782f",
    "scrolled": true,
    "tags": []
   },
   "outputs": [
    {
     "data": {
      "text/plain": [
       "array([[[[0.],\n",
       "         [0.],\n",
       "         [0.],\n",
       "         ...,\n",
       "         [0.],\n",
       "         [0.],\n",
       "         [0.]],\n",
       "\n",
       "        [[0.],\n",
       "         [0.],\n",
       "         [0.],\n",
       "         ...,\n",
       "         [0.],\n",
       "         [0.],\n",
       "         [0.]],\n",
       "\n",
       "        [[0.],\n",
       "         [0.],\n",
       "         [0.],\n",
       "         ...,\n",
       "         [0.],\n",
       "         [0.],\n",
       "         [0.]],\n",
       "\n",
       "        ...,\n",
       "\n",
       "        [[0.],\n",
       "         [0.],\n",
       "         [0.],\n",
       "         ...,\n",
       "         [0.],\n",
       "         [0.],\n",
       "         [0.]],\n",
       "\n",
       "        [[0.],\n",
       "         [0.],\n",
       "         [0.],\n",
       "         ...,\n",
       "         [0.],\n",
       "         [0.],\n",
       "         [0.]],\n",
       "\n",
       "        [[0.],\n",
       "         [0.],\n",
       "         [0.],\n",
       "         ...,\n",
       "         [0.],\n",
       "         [0.],\n",
       "         [0.]]],\n",
       "\n",
       "\n",
       "       [[[0.],\n",
       "         [0.],\n",
       "         [0.],\n",
       "         ...,\n",
       "         [0.],\n",
       "         [0.],\n",
       "         [0.]],\n",
       "\n",
       "        [[0.],\n",
       "         [0.],\n",
       "         [0.],\n",
       "         ...,\n",
       "         [0.],\n",
       "         [0.],\n",
       "         [0.]],\n",
       "\n",
       "        [[0.],\n",
       "         [0.],\n",
       "         [0.],\n",
       "         ...,\n",
       "         [0.],\n",
       "         [0.],\n",
       "         [0.]],\n",
       "\n",
       "        ...,\n",
       "\n",
       "        [[0.],\n",
       "         [0.],\n",
       "         [0.],\n",
       "         ...,\n",
       "         [0.],\n",
       "         [0.],\n",
       "         [0.]],\n",
       "\n",
       "        [[0.],\n",
       "         [0.],\n",
       "         [0.],\n",
       "         ...,\n",
       "         [0.],\n",
       "         [0.],\n",
       "         [0.]],\n",
       "\n",
       "        [[0.],\n",
       "         [0.],\n",
       "         [0.],\n",
       "         ...,\n",
       "         [0.],\n",
       "         [0.],\n",
       "         [0.]]],\n",
       "\n",
       "\n",
       "       [[[0.],\n",
       "         [0.],\n",
       "         [0.],\n",
       "         ...,\n",
       "         [0.],\n",
       "         [0.],\n",
       "         [0.]],\n",
       "\n",
       "        [[0.],\n",
       "         [0.],\n",
       "         [0.],\n",
       "         ...,\n",
       "         [0.],\n",
       "         [0.],\n",
       "         [0.]],\n",
       "\n",
       "        [[0.],\n",
       "         [0.],\n",
       "         [0.],\n",
       "         ...,\n",
       "         [0.],\n",
       "         [0.],\n",
       "         [0.]],\n",
       "\n",
       "        ...,\n",
       "\n",
       "        [[0.],\n",
       "         [0.],\n",
       "         [0.],\n",
       "         ...,\n",
       "         [0.],\n",
       "         [0.],\n",
       "         [0.]],\n",
       "\n",
       "        [[0.],\n",
       "         [0.],\n",
       "         [0.],\n",
       "         ...,\n",
       "         [0.],\n",
       "         [0.],\n",
       "         [0.]],\n",
       "\n",
       "        [[0.],\n",
       "         [0.],\n",
       "         [0.],\n",
       "         ...,\n",
       "         [0.],\n",
       "         [0.],\n",
       "         [0.]]]])"
      ]
     },
     "execution_count": 58,
     "metadata": {},
     "output_type": "execute_result"
    }
   ],
   "source": [
    "samples = np.array(samples)\n",
    "samples"
   ]
  },
  {
   "cell_type": "code",
   "execution_count": 59,
   "metadata": {
    "colab": {
     "base_uri": "https://localhost:8080/"
    },
    "executionInfo": {
     "elapsed": 4,
     "status": "ok",
     "timestamp": 1674841831817,
     "user": {
      "displayName": "Michael Gd",
      "userId": "11180041065344820766"
     },
     "user_tz": -180
    },
    "id": "FbUGFaa1vL8d",
    "outputId": "92621f6d-4b86-4591-aff7-0b207fcf32d2"
   },
   "outputs": [
    {
     "data": {
      "text/plain": [
       "(3, 28, 28, 1)"
      ]
     },
     "execution_count": 59,
     "metadata": {},
     "output_type": "execute_result"
    }
   ],
   "source": [
    "samples.shape"
   ]
  },
  {
   "cell_type": "code",
   "execution_count": 60,
   "metadata": {
    "colab": {
     "base_uri": "https://localhost:8080/"
    },
    "executionInfo": {
     "elapsed": 350,
     "status": "ok",
     "timestamp": 1674841863435,
     "user": {
      "displayName": "Michael Gd",
      "userId": "11180041065344820766"
     },
     "user_tz": -180
    },
    "id": "aDvY8je6vL8d",
    "outputId": "63ab6db6-2e99-4afa-8d17-57e361daeee6"
   },
   "outputs": [
    {
     "name": "stdout",
     "output_type": "stream",
     "text": [
      "1/1 [==============================] - 0s 48ms/step\n"
     ]
    },
    {
     "data": {
      "text/plain": [
       "array([[2.5937939e-07, 2.4276851e-06, 5.8225637e-06, 4.9425539e-06,\n",
       "        1.0340050e-06, 1.6497202e-03, 1.9308179e-06, 2.4267221e-03,\n",
       "        1.2209715e-06, 9.9590588e-01],\n",
       "       [2.2698295e-10, 6.7218760e-18, 1.0000000e+00, 1.1248967e-11,\n",
       "        3.8473041e-10, 1.5455244e-16, 8.9954844e-10, 2.0654606e-15,\n",
       "        5.5165058e-15, 1.4436451e-17],\n",
       "       [4.9848248e-10, 1.0000000e+00, 6.7908010e-12, 1.2529738e-10,\n",
       "        2.9407524e-10, 3.5473627e-12, 1.2477330e-12, 1.2267627e-10,\n",
       "        1.1061763e-13, 3.1393036e-15]], dtype=float32)"
      ]
     },
     "execution_count": 60,
     "metadata": {},
     "output_type": "execute_result"
    }
   ],
   "source": [
    "pred_prob = model.predict(samples)\n",
    "pred_prob"
   ]
  },
  {
   "cell_type": "code",
   "execution_count": 61,
   "metadata": {
    "colab": {
     "base_uri": "https://localhost:8080/"
    },
    "executionInfo": {
     "elapsed": 6,
     "status": "ok",
     "timestamp": 1674841881364,
     "user": {
      "displayName": "Michael Gd",
      "userId": "11180041065344820766"
     },
     "user_tz": -180
    },
    "id": "2s4IS2EEvL8d",
    "outputId": "aa8fcc25-8836-4bc2-a4e2-3fc847ced3da"
   },
   "outputs": [
    {
     "data": {
      "text/plain": [
       "array([9, 2, 1])"
      ]
     },
     "execution_count": 61,
     "metadata": {},
     "output_type": "execute_result"
    }
   ],
   "source": [
    "y_pred = np.argmax(pred_prob, axis=1)\n",
    "y_pred"
   ]
  },
  {
   "cell_type": "code",
   "execution_count": 62,
   "metadata": {
    "colab": {
     "base_uri": "https://localhost:8080/"
    },
    "executionInfo": {
     "elapsed": 377,
     "status": "ok",
     "timestamp": 1674841892847,
     "user": {
      "displayName": "Michael Gd",
      "userId": "11180041065344820766"
     },
     "user_tz": -180
    },
    "id": "Y4PyoRvXvL8d",
    "outputId": "23a0d066-28ee-494b-a090-9c5c58b18867"
   },
   "outputs": [
    {
     "data": {
      "text/plain": [
       "array([9, 2, 1], dtype=uint8)"
      ]
     },
     "execution_count": 62,
     "metadata": {},
     "output_type": "execute_result"
    }
   ],
   "source": [
    "y_test[:3]"
   ]
  },
  {
   "cell_type": "code",
   "execution_count": 63,
   "metadata": {
    "colab": {
     "base_uri": "https://localhost:8080/"
    },
    "executionInfo": {
     "elapsed": 365,
     "status": "ok",
     "timestamp": 1674841906748,
     "user": {
      "displayName": "Michael Gd",
      "userId": "11180041065344820766"
     },
     "user_tz": -180
    },
    "id": "rRNyPf7Hx-Ri",
    "outputId": "0b5af299-24e7-4f48-8888-56b00431b1ad"
   },
   "outputs": [
    {
     "data": {
      "text/plain": [
       "['T-shirt/top',\n",
       " 'Trouser',\n",
       " 'Pullover',\n",
       " 'Dress',\n",
       " 'Coat',\n",
       " 'Sandal',\n",
       " 'Shirt',\n",
       " 'Sneaker',\n",
       " 'Bag',\n",
       " 'Ankle boot']"
      ]
     },
     "execution_count": 63,
     "metadata": {},
     "output_type": "execute_result"
    }
   ],
   "source": [
    "classes"
   ]
  },
  {
   "cell_type": "code",
   "execution_count": 64,
   "metadata": {
    "colab": {
     "base_uri": "https://localhost:8080/"
    },
    "executionInfo": {
     "elapsed": 350,
     "status": "ok",
     "timestamp": 1674841914430,
     "user": {
      "displayName": "Michael Gd",
      "userId": "11180041065344820766"
     },
     "user_tz": -180
    },
    "id": "6yQXxDoavL8e",
    "outputId": "4b5dca97-4764-4835-da38-c7f64ad3fc49"
   },
   "outputs": [
    {
     "name": "stdout",
     "output_type": "stream",
     "text": [
      "Ankle boot\n",
      "Pullover\n",
      "Trouser\n"
     ]
    }
   ],
   "source": [
    "for i in y_test[:3]:\n",
    "    print(classes[i])"
   ]
  },
  {
   "cell_type": "markdown",
   "metadata": {
    "id": "807z8nCevL8e"
   },
   "source": [
    "___\n",
    "\n",
    "<p style=\"text-align: center;\"><img src=\"https://docs.google.com/uc?id=1lY0Uj5R04yMY3-ZppPWxqCr5pvBLYPnV\" class=\"img-fluid\" alt=\"CLRSWY\"></p>\n",
    "\n",
    "___"
   ]
  }
 ],
 "metadata": {
  "accelerator": "GPU",
  "colab": {
   "collapsed_sections": [
    "uEvq7ykPvL8U",
    "OQyKmcArvL8V",
    "LlkEzbh5vL8Y",
    "DMH88ephvL8b"
   ],
   "provenance": []
  },
  "gpuClass": "standard",
  "kernelspec": {
   "display_name": "Python 3 (ipykernel)",
   "language": "python",
   "name": "python3"
  },
  "language_info": {
   "codemirror_mode": {
    "name": "ipython",
    "version": 3
   },
   "file_extension": ".py",
   "mimetype": "text/x-python",
   "name": "python",
   "nbconvert_exporter": "python",
   "pygments_lexer": "ipython3",
   "version": "3.9.17"
  },
  "toc": {
   "base_numbering": 1,
   "nav_menu": {},
   "number_sections": false,
   "sideBar": true,
   "skip_h1_title": false,
   "title_cell": "Table of Contents",
   "title_sidebar": "Contents",
   "toc_cell": false,
   "toc_position": {},
   "toc_section_display": true,
   "toc_window_display": true
  }
 },
 "nbformat": 4,
 "nbformat_minor": 4
}
