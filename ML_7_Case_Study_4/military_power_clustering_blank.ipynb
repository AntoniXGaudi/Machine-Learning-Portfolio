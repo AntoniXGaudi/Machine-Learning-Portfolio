{
  "nbformat": 4,
  "nbformat_minor": 0,
  "metadata": {
    "interpreter": {
      "hash": "e4e90950cb561445fc7289d5187c528b28750a487d008a70b474c773afaf79b7"
    },
    "kernelspec": {
      "display_name": "Python 3",
      "language": "python",
      "name": "python3"
    },
    "language_info": {
      "codemirror_mode": {
        "name": "ipython",
        "version": 3
      },
      "file_extension": ".py",
      "mimetype": "text/x-python",
      "name": "python",
      "nbconvert_exporter": "python",
      "pygments_lexer": "ipython3",
      "version": "3.8.11"
    },
    "colab": {
      "provenance": [],
      "collapsed_sections": [
        "pHcni9Yd8AKI",
        "LnUyXAAC8AKJ",
        "v7Eqi2K28AKK",
        "8WuFtB6i8AKP"
      ]
    }
  },
  "cells": [
    {
      "cell_type": "markdown",
      "source": [
        "___\n",
        "\n",
        "<p style=\"text-align: center;\"><img src=\"https://docs.google.com/uc?id=1lY0Uj5R04yMY3-ZppPWxqCr5pvBLYPnV\" class=\"img-fluid\" alt=\"CLRSWY\"></p>\n",
        "\n",
        "___"
      ],
      "metadata": {
        "id": "QE2cqdNIGBL7"
      }
    },
    {
      "cell_type": "markdown",
      "metadata": {
        "id": "0DxNKOyW8AKE"
      },
      "source": [
        "# Military Power Clustering Project\n",
        "-World military power\n",
        "Source : globalfirepower.com on 1st may 2020\n",
        "\n",
        "- https://data.world/vizzup/world-military-power/workspace/file?filename=World+military+power.xlsx\n"
      ]
    },
    {
      "cell_type": "markdown",
      "metadata": {
        "id": "pHcni9Yd8AKI"
      },
      "source": [
        "# Import Libraries"
      ]
    },
    {
      "cell_type": "code",
      "metadata": {
        "id": "t8CFBZr28AKJ"
      },
      "source": [],
      "execution_count": null,
      "outputs": []
    },
    {
      "cell_type": "markdown",
      "metadata": {
        "id": "LnUyXAAC8AKJ"
      },
      "source": [
        "# Ingest Data  "
      ]
    },
    {
      "cell_type": "code",
      "metadata": {
        "id": "enCbGulB8AKK"
      },
      "source": [],
      "execution_count": null,
      "outputs": []
    },
    {
      "cell_type": "markdown",
      "metadata": {
        "id": "v7Eqi2K28AKK"
      },
      "source": [
        "# EDA"
      ]
    },
    {
      "cell_type": "code",
      "metadata": {
        "id": "QxAbx-Y98AKK"
      },
      "source": [],
      "execution_count": null,
      "outputs": []
    },
    {
      "cell_type": "markdown",
      "metadata": {
        "id": "EoAk59FU8AKL"
      },
      "source": [
        "## Implement basic steps to see how is your data looks like"
      ]
    },
    {
      "cell_type": "code",
      "metadata": {
        "id": "PU3d2cKt8AKL"
      },
      "source": [],
      "execution_count": null,
      "outputs": []
    },
    {
      "cell_type": "markdown",
      "metadata": {
        "id": "oSiUeb-I8AKL"
      },
      "source": [
        "## Convert multi index columns to one level"
      ]
    },
    {
      "cell_type": "code",
      "metadata": {
        "id": "aTcr2roB8AKM"
      },
      "source": [],
      "execution_count": null,
      "outputs": []
    },
    {
      "cell_type": "markdown",
      "metadata": {
        "id": "9AHJyubO8AKM"
      },
      "source": [
        "## Detect and drop duplicated columns"
      ]
    },
    {
      "cell_type": "code",
      "metadata": {
        "id": "zb_hDNB08AKM"
      },
      "source": [],
      "execution_count": null,
      "outputs": []
    },
    {
      "cell_type": "markdown",
      "metadata": {
        "id": "D-WNWchf8AKM"
      },
      "source": [
        "## Check for missing values "
      ]
    },
    {
      "cell_type": "code",
      "metadata": {
        "id": "Hp9q9ILT8AKN"
      },
      "source": [],
      "execution_count": null,
      "outputs": []
    },
    {
      "cell_type": "markdown",
      "metadata": {
        "id": "T-aAEYmI8AKN"
      },
      "source": [
        "## Deal with missing values \n",
        "* Hint-1, use wikipedia to fill in missing values ​​comparing with similar countries\n",
        "* Hint-2, Georeferences of countries can help you"
      ]
    },
    {
      "cell_type": "code",
      "metadata": {
        "id": "wtUZNcXq8AKN"
      },
      "source": [],
      "execution_count": null,
      "outputs": []
    },
    {
      "cell_type": "markdown",
      "metadata": {
        "id": "OpG3lbXj8AKN"
      },
      "source": [
        "## Fix the dtypes"
      ]
    },
    {
      "cell_type": "code",
      "metadata": {
        "id": "uTPH08uK8AKO"
      },
      "source": [],
      "execution_count": null,
      "outputs": []
    },
    {
      "cell_type": "markdown",
      "metadata": {
        "id": "hGGYZWU58AKO"
      },
      "source": [
        "## Drop the features that not affect military power\n",
        "* Hint-1,  Georeferences not proper features"
      ]
    },
    {
      "cell_type": "code",
      "metadata": {
        "id": "B09VrwdB8AKO"
      },
      "source": [],
      "execution_count": null,
      "outputs": []
    },
    {
      "cell_type": "markdown",
      "metadata": {
        "id": "_Q9a0ODT8AKO"
      },
      "source": [
        "## Visualy inspect the some features"
      ]
    },
    {
      "cell_type": "code",
      "metadata": {
        "id": "6xQ6MEDy8AKO"
      },
      "source": [],
      "execution_count": null,
      "outputs": []
    },
    {
      "cell_type": "markdown",
      "metadata": {
        "id": "J4kKwd4y8AKP"
      },
      "source": [
        "## Decriptive statistics"
      ]
    },
    {
      "cell_type": "code",
      "metadata": {
        "id": "MRfNR8p_8AKP"
      },
      "source": [],
      "execution_count": null,
      "outputs": []
    },
    {
      "cell_type": "markdown",
      "metadata": {
        "id": "8WuFtB6i8AKP"
      },
      "source": [
        "# Data Preprocessing"
      ]
    },
    {
      "cell_type": "code",
      "metadata": {
        "id": "8PjRKofq8AKP"
      },
      "source": [],
      "execution_count": null,
      "outputs": []
    },
    {
      "cell_type": "markdown",
      "metadata": {
        "id": "RjfzLF0P8AKP"
      },
      "source": [
        "# Modelling"
      ]
    },
    {
      "cell_type": "code",
      "metadata": {
        "id": "Jnan1N358AKP"
      },
      "source": [],
      "execution_count": null,
      "outputs": []
    },
    {
      "cell_type": "markdown",
      "metadata": {
        "id": "dR6v_MwP8AKQ"
      },
      "source": [
        "## Hopkins Test \n",
        "#### Assess the clusterability of a dataset. A score between 0 and 1, a score around 0.5 express no clusterability, a score tending to 1 express an uniform distrubution so clustering can't be useful and  0 express  not an uniform distrubution hence clusterering can be useful."
      ]
    },
    {
      "cell_type": "markdown",
      "metadata": {
        "id": "MwuhI45E8AKQ"
      },
      "source": []
    },
    {
      "cell_type": "markdown",
      "metadata": {
        "id": "hupFwh2N8AKQ"
      },
      "source": [
        "## Clustering with K-means"
      ]
    },
    {
      "cell_type": "code",
      "metadata": {
        "id": "Xg4jD_8o8AKQ"
      },
      "source": [],
      "execution_count": null,
      "outputs": []
    },
    {
      "cell_type": "markdown",
      "metadata": {
        "id": "BRWQmu6H8AKQ"
      },
      "source": [
        "### Elbow Method \n",
        "### We use this method to find optimal k value by looking up to break point of graph. "
      ]
    },
    {
      "cell_type": "code",
      "metadata": {
        "id": "bJsKrZaA8AKQ"
      },
      "source": [],
      "execution_count": null,
      "outputs": []
    },
    {
      "cell_type": "markdown",
      "metadata": {
        "id": "mFJFx-Fg8AKR"
      },
      "source": [
        "### Model Building and label visualisation"
      ]
    },
    {
      "cell_type": "code",
      "metadata": {
        "id": "G0ygI1998AKR"
      },
      "source": [],
      "execution_count": null,
      "outputs": []
    },
    {
      "cell_type": "markdown",
      "metadata": {
        "id": "bj8H_Fmr8AKR"
      },
      "source": [
        "### Evaluate "
      ]
    },
    {
      "cell_type": "code",
      "metadata": {
        "id": "h_oGrBIS8AKR"
      },
      "source": [],
      "execution_count": null,
      "outputs": []
    },
    {
      "cell_type": "markdown",
      "metadata": {
        "id": "eLzoqvfI8AKR"
      },
      "source": [
        "## Hierarchical Clustering"
      ]
    },
    {
      "cell_type": "code",
      "metadata": {
        "id": "BF5xL3HF8AKS"
      },
      "source": [],
      "execution_count": null,
      "outputs": []
    },
    {
      "cell_type": "markdown",
      "metadata": {
        "id": "hZZd6NX_8AKS"
      },
      "source": [
        "### Dendogram"
      ]
    },
    {
      "cell_type": "code",
      "metadata": {
        "id": "0834lMh08AKS"
      },
      "source": [],
      "execution_count": null,
      "outputs": []
    },
    {
      "cell_type": "markdown",
      "metadata": {
        "id": "nOhjvMZN8AKS"
      },
      "source": [
        "### Model Building and label visualisation"
      ]
    },
    {
      "cell_type": "code",
      "metadata": {
        "id": "-OmyaWc_8AKS"
      },
      "source": [],
      "execution_count": null,
      "outputs": []
    },
    {
      "cell_type": "markdown",
      "metadata": {
        "id": "GMdiayVk8AKT"
      },
      "source": [
        "### Evaluate "
      ]
    },
    {
      "cell_type": "code",
      "metadata": {
        "id": "AyWIsy3P8AKT"
      },
      "source": [],
      "execution_count": null,
      "outputs": []
    },
    {
      "cell_type": "code",
      "metadata": {
        "id": "ae5r4ScQ8AKZ"
      },
      "source": [],
      "execution_count": null,
      "outputs": []
    },
    {
      "cell_type": "markdown",
      "source": [
        "___\n",
        "\n",
        "<p style=\"text-align: center;\"><img src=\"https://docs.google.com/uc?id=1lY0Uj5R04yMY3-ZppPWxqCr5pvBLYPnV\" class=\"img-fluid\" alt=\"CLRSWY\"></p>\n",
        "\n",
        "___"
      ],
      "metadata": {
        "id": "foNKxngQGDHp"
      }
    }
  ]
}